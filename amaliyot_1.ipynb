{
  "nbformat": 4,
  "nbformat_minor": 0,
  "metadata": {
    "colab": {
      "provenance": [],
      "authorship_tag": "ABX9TyNxdNuNUwuWlcjaC37rvXPV",
      "include_colab_link": true
    },
    "kernelspec": {
      "name": "python3",
      "display_name": "Python 3"
    },
    "language_info": {
      "name": "python"
    }
  },
  "cells": [
    {
      "cell_type": "markdown",
      "metadata": {
        "id": "view-in-github",
        "colab_type": "text"
      },
      "source": [
        "<a href=\"https://colab.research.google.com/github/azizbekb/NumPy/blob/main/amaliyot_1.ipynb\" target=\"_parent\"><img src=\"https://colab.research.google.com/assets/colab-badge.svg\" alt=\"Open In Colab\"/></a>"
      ]
    },
    {
      "cell_type": "code",
      "source": [
        "# Numpy kutubxonasini chaqirib olish\n",
        "import numpy as np"
      ],
      "metadata": {
        "id": "QfcOE5SX0H3f"
      },
      "execution_count": 2,
      "outputs": []
    },
    {
      "cell_type": "markdown",
      "source": [
        "### Masala(1): 1-o'lchamli massivlar yaratish\n",
        "**Masala sharti :** Elementlari ixtiyoriy  *n* ta  (*n* > 0, butun son) bo'lgan 1-o'lchamli massiv (array) yaratuvchi funksiyani davom ettiring. \n",
        "\n",
        "**Yordam :**  `array` yoki `random` funksiyasidan foydalaning. \n",
        "\n",
        "\n",
        "\n",
        "\n"
      ],
      "metadata": {
        "id": "8MEXkix300Cd"
      }
    },
    {
      "cell_type": "code",
      "execution_count": 3,
      "metadata": {
        "colab": {
          "base_uri": "https://localhost:8080/"
        },
        "id": "cqFgkaeuziwC",
        "outputId": "b21b4c41-e531-4b18-cee2-605b5fd5dfd4"
      },
      "outputs": [
        {
          "output_type": "stream",
          "name": "stdout",
          "text": [
            "[-0.3622854  -1.19224027  1.07572726  0.04328409 -0.01532729]\n"
          ]
        }
      ],
      "source": [
        "# JAVOBNI SHU YERGA YOZING\n",
        "def one_dim(n):\n",
        "  \"\"\" n ta elementdan tashkil topgan 1-o'lchamli massiv \"\"\"\n",
        "  arr=np.random.randn(n)\n",
        "  return arr\n",
        "print(one_dim(5))"
      ]
    },
    {
      "cell_type": "markdown",
      "source": [
        "### Masala(2) 2-o'lchamli massivlar yaratish \n",
        "\n",
        "**Masala :** Shakli `shape(r, c)` bo'lgan 2-o'lchamli massiv (array) yaratuvchi funksiyani davom ettiring.  \n",
        "\n",
        "**Yordam :** numpy kutubxonasida massivlar yaratuvchi funksiyalarining istalganidan foydlanishingiz mumkin. \n"
      ],
      "metadata": {
        "id": "IUyWbFwa03iA"
      }
    },
    {
      "cell_type": "code",
      "source": [
        "# JAVOBNI SHU YERGA YOZING\n",
        "def two_dim(r, c):\n",
        "    \"\"\" r ta qator, c ta ustundan tashkil topgan 2-o'lchamli massiv \"\"\"\n",
        "    arr=np.random.randint(5, size=(r,c))\n",
        "    return arr\n",
        "print(two_dim(2,4))"
      ],
      "metadata": {
        "colab": {
          "base_uri": "https://localhost:8080/"
        },
        "id": "aG6HEnQ60FCY",
        "outputId": "83c834b6-42c9-4682-b041-a3393730cff5"
      },
      "execution_count": 4,
      "outputs": [
        {
          "output_type": "stream",
          "name": "stdout",
          "text": [
            "[[4 4 1 4]\n",
            " [4 3 1 0]]\n"
          ]
        }
      ]
    },
    {
      "cell_type": "code",
      "source": [],
      "metadata": {
        "id": "3gjlOec8LfIq"
      },
      "execution_count": null,
      "outputs": []
    }
  ]
}