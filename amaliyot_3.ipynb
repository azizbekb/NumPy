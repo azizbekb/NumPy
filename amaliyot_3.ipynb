{
  "nbformat": 4,
  "nbformat_minor": 0,
  "metadata": {
    "colab": {
      "provenance": [],
      "authorship_tag": "ABX9TyMqrg9XBUwerd0D3pje4PXh",
      "include_colab_link": true
    },
    "kernelspec": {
      "name": "python3",
      "display_name": "Python 3"
    },
    "language_info": {
      "name": "python"
    }
  },
  "cells": [
    {
      "cell_type": "markdown",
      "metadata": {
        "id": "view-in-github",
        "colab_type": "text"
      },
      "source": [
        "<a href=\"https://colab.research.google.com/github/azizbekb/NumPy/blob/main/amaliyot_3.ipynb\" target=\"_parent\"><img src=\"https://colab.research.google.com/assets/colab-badge.svg\" alt=\"Open In Colab\"/></a>"
      ]
    },
    {
      "cell_type": "markdown",
      "source": [
        "### Dastlab, kerakli ma'lumotlarni pastki qatordagi cellni yuritish orqali yuklab olamiz:"
      ],
      "metadata": {
        "id": "2DnVw8T_Jvdw"
      }
    },
    {
      "cell_type": "code",
      "source": [
        "!wget -O GM_Cars.zip \"https://drive.google.com/uc?export=download&id=1i57swZxVA9Xh64eVvylnkIJmKT-4WTZy\" && unzip GM_Cars.zip && rm -r GM_Cars.zip"
      ],
      "metadata": {
        "id": "Ke2_jbMAJu-7"
      },
      "execution_count": null,
      "outputs": []
    },
    {
      "cell_type": "code",
      "source": [
        "# Numpy kutubxonasini chaqirib olish\n",
        "import numpy as np"
      ],
      "metadata": {
        "id": "Z-Jh9JvvIvwa"
      },
      "execution_count": 1,
      "outputs": []
    },
    {
      "cell_type": "markdown",
      "source": [
        "### Masala(1): Ma'lumotlarni yuklab olish.\n",
        "\n",
        "**Ma'lumotlar :** Ma'lumotlar ikkita faylda joylangan bo'lib, bu fayllar nomlari `gm_2020.npz` va `gm_2021.npz` ko'rinishda, bu fayllar mos ravishda GM Uzbekistan tomonidan 2020 va 2021 yillarning yanvar-iyul oylarida ishlab chiqarilgan avtomobillar modellari va ularning sonlari keltirilgan. `npz` kengaytmasidan ko'rinib turibdiki, xar bir fayl o'z ichiga massivlarni(bizning holatda ikkita massiv, (1) Avtomobil modellari nomi, (2) Ishlab chiqarilgan avtomobillar soni) mujassam etgan. \n",
        "\n",
        "Masala sharti shundan iboratki, har bir faylni yuklab ularni ikkita mos massivga ajratuvchi funksiyani davom ettiring. Tuzilajak funksiyangiz argument sifatida fayl nomini qabul qilishini ta'minlang. \n",
        "\n",
        "**Muhim**: Massivlar: `models` va `qnts` nomi ostida saqlangan.\n",
        "\n",
        "**Yordam :**  `load` metodi yordamida yuklab, so'ngra massiv nomlaridan foydalanib natijani qaytaring. \n",
        "\n",
        "**Natija**: Agar funksiyaga `gm_2020.npz` faylini uzatilsa, natija quyidagi ko'rinishda bo'lishi mumkin:\n",
        "\n",
        "(array(['Labo', 'Damas', ......., 'Gentra'], dtype='<U6'), array([ 4521, 30889, ......,  30368]))\n",
        "\n",
        "\n",
        "\n",
        "***Ma'lumot manbasi***: *gazeta.uz*"
      ],
      "metadata": {
        "id": "lX-ZGN2FJ9r-"
      }
    },
    {
      "cell_type": "code",
      "source": [
        "# JAVOBNI SHU YERGA YOZING\n",
        "def load_data(file_name):\n",
        "  \"\"\"Har bir faylni yuklab ularni ikkita mos massivga ajratuvchi funksiyani tuzish \"\"\"\n",
        "  data=np.load(file_name)\n",
        "  models=data['models']\n",
        "  qnts=data['qnts']\n",
        "  return models, qnts\n",
        "print(load_data('GM_Cars/gm_2020.npz'))\n",
        "print(load_data('GM_Cars/gm_2021.npz'))"
      ],
      "metadata": {
        "colab": {
          "base_uri": "https://localhost:8080/"
        },
        "id": "DTMJKixDIPQn",
        "outputId": "195d7521-3da8-46fd-f9af-e65928605690"
      },
      "execution_count": 8,
      "outputs": [
        {
          "output_type": "stream",
          "name": "stdout",
          "text": [
            "(array(['Labo', 'Damas', 'Spark', 'Nexia', 'Cobalt', 'Gentra'], dtype='<U6'), array([ 4521, 30889, 16370, 41663, 44901, 30368], dtype=int32))\n",
            "(array(['Labo', 'Damas', 'Spark', 'Nexia', 'Cobalt', 'Gentra'], dtype='<U6'), array([ 7542, 33682,  6485, 14442, 36317, 26266], dtype=int32))\n"
          ]
        }
      ]
    },
    {
      "cell_type": "markdown",
      "source": [
        "### Masala(2): Jami ishlab chiqarilgan avtomobillar soni.\n",
        "\n",
        "Yuqorida yaratilingan ma'lumotlarni yuklab ajratib oluvchi funksiyamizdan foydalanib, endilikda ma'lumotlar ustida amallar bajaramiz. \n",
        "\n",
        "**Masala :** Ma'lumotlardan foydalanib, 2020 va 2021  yillarda ishlab chiqarilgan jami avtomobillar sonini hisoblaydigan funksiyani davom ettiring.\n",
        "\n",
        "**Natija**: (168..., ...734) ko'rinishida bo'ladi. \n",
        " \n",
        "Bu yerda 168.... ta avtomabil 2020 yilda ishlab chiqarilgan. 2021 yilda esa ...734 ta avtomabil ishlab chiqarilan. "
      ],
      "metadata": {
        "id": "Ppclglv1KLO_"
      }
    },
    {
      "cell_type": "code",
      "source": [
        "# JAVOBNI SHU YERGA YOZING\n",
        "def total_qnts():\n",
        "    \"\"\"Ma'lumotlardan foydalanib, 2020 va 2021 yillarda ishlab chiqarilgan jami avtomobillar sonini hisoblaydigan \n",
        "    funksiya yaratish.\"\"\"\n",
        "    data1 = load_data('GM_Cars/gm_2020.npz') # ma'lumotlar (2020)\n",
        "    data2 = load_data('GM_Cars/gm_2021.npz') # ma'lumotlar (2021)\n",
        "    total_qnts_2020=np.sum(data1[1])\n",
        "    total_qnts_2021=np.sum(data2[1])\n",
        "    return total_qnts_2020, total_qnts_2021\n",
        "print(total_qnts())\n"
      ],
      "metadata": {
        "colab": {
          "base_uri": "https://localhost:8080/"
        },
        "id": "DlPcUYDIJR2i",
        "outputId": "c1cecf56-99ff-44ac-b4cd-17d35f7aff58"
      },
      "execution_count": 9,
      "outputs": [
        {
          "output_type": "stream",
          "name": "stdout",
          "text": [
            "(168712, 124734)\n"
          ]
        }
      ]
    },
    {
      "cell_type": "markdown",
      "source": [
        "### Masala(3): Ba'zi avtomabillarning ishlab chiqarilish sonlari. \n",
        "\n",
        "\n",
        "\n",
        "**Masala :** Tasavvur qiling, ish beruvchi sizdan faqatgina `Damas`, `Nexia`, `Cobalt`, va `Gentra`rusumli avtomabillarni 2020 va 2021 yillarda qancha ishlab chiqarilganini barcha ma'lumotlardan ajratib berishni so'radi. Siz, shu vazifani bajaradigan funksiyani davom ettirishingiz kerak. \n",
        "\n",
        " **Yordam**: Boolean indekslash mavzusiga murojat qiling.\n",
        " \n",
        " \n",
        " **Natija**: (array([30889, .....  30368]), array([33682 .....  26266])) ko'rinishida bo'ladi"
      ],
      "metadata": {
        "id": "hDKLKbW1KS90"
      }
    },
    {
      "cell_type": "code",
      "source": [
        "# JAVOBNI SHU YERGA YOZING\n",
        "def sel_models():\n",
        "    \"\"\"Faqatgina Damas, Nexia, Cobalt, va Gentra rusumli avtomabillarni 2020 va 2021 yillarda qancha ishlab chiqarilganini \n",
        "    barcha ma'lumotlardan ajratib olish\"\"\"\n",
        "    data1 = load_data('GM_Cars/gm_2020.npz') # ma'lumotlar (2020)\n",
        "    data2 = load_data('GM_Cars/gm_2021.npz') # ma'lumotlar (2021)\n",
        "    musk1 = (data1[0] == 'Damas') | (data1[0] == 'Nexia') | (data1[0] == 'Cobalt') | (data1[0] == 'Gentra')\n",
        "    x = data1[1][musk1]\n",
        "    musk2 = (data2[0] == 'Damas') | (data2[0] == 'Nexia') | (data2[0] == 'Cobalt') | (data2[0] == 'Gentra')\n",
        "    y = data2[1][musk2]\n",
        "    return x, y\n",
        "print(sel_models())"
      ],
      "metadata": {
        "colab": {
          "base_uri": "https://localhost:8080/"
        },
        "id": "ABf7RJG0JZ7P",
        "outputId": "d580eef6-e85f-4e1a-a45e-d7bf21103f3d"
      },
      "execution_count": 10,
      "outputs": [
        {
          "output_type": "stream",
          "name": "stdout",
          "text": [
            "(array([30889, 41663, 44901, 30368], dtype=int32), array([33682, 14442, 36317, 26266], dtype=int32))\n"
          ]
        }
      ]
    },
    {
      "cell_type": "markdown",
      "source": [
        "### Masala(4): Ba'zi avtomabillarning ishlab chiqarilish sonlari umumiy ishlab chiqarilgan avtomabilarning qancha foizini tashkil etadi. \n",
        "\n",
        "\n",
        "Yuqorida faqatgina `Damas`, `Nexia`, `Cobalt`, va `Gentra`rusumli avtomabillarni 2020 va 2021 yillarda qancha ishlab chiqarilganini barcha ma'lumotlardan ajratib oldik. \n",
        "\n",
        "\n",
        "**Masala :** Ana endilikda shu avtomabillarni jami ishlab chiqarilgan avtomabillarning qancha foizini tashkil etishini hisoblab ko'ramiz. Shu vazifani bajaruvchi funksiyani tuzing. \n",
        "\n",
        " **Yordam**: Masala(2)da jami avtomabillarning sonini hisoblab chiqgan edik, Masala(3)da esa ba'zi avtomabillarning sonini hisoblab topdik. Shu ma'lumotlardan foydalaning. \n",
        " \n",
        " **Hisoblash formulasi:** $$\\frac{Avtomabil\\;soni}{Jami\\; avtomabillar\\; soni}*100% $$\n",
        " \n",
        " \n",
        " **Natija**: (array([18.30871544, ..... 17.99990516]),\n",
        " array([27.00306252, ..... 21.0576106 ])) ko'rinishida bo'ladi\n",
        " \n",
        " Ya'ni, `Damas` rusumli avtomabil 2020 yilda jami ishlab chiqarishning 18.3% ni tashkil etadi 2021 yilda esa 27% ni tashkil etmoqda va h.k.\n",
        " "
      ],
      "metadata": {
        "id": "is4n796oKayP"
      }
    },
    {
      "cell_type": "code",
      "source": [
        "# JAVOBNI SHU YERGA YOZING\n",
        "def ratio_sel_models():\n",
        "    \"\"\"Ba'zi avtomabillarning ishlab chiqarish hajmi, jami ishlab chiqarilgan avtomabillar hajmining qanday \n",
        "    foizini egallashini hisoblash funksiyasi\"\"\"\n",
        "    data1=total_qnts()\n",
        "    data2=sel_models()\n",
        "    result1=(data2[0]/data1[0])*100\n",
        "    result2=(data2[1]/data1[1])*100\n",
        "    return result1,result2\n",
        "print(ratio_sel_models())"
      ],
      "metadata": {
        "colab": {
          "base_uri": "https://localhost:8080/"
        },
        "id": "-VGWxaq5JeEA",
        "outputId": "41ba5800-8a2f-4114-943b-778277c4c99a"
      },
      "execution_count": 11,
      "outputs": [
        {
          "output_type": "stream",
          "name": "stdout",
          "text": [
            "(array([18.30871544, 24.69474608, 26.61399308, 17.99990516]), array([27.00306252, 11.57823849, 29.11555791, 21.0576106 ]))\n"
          ]
        }
      ]
    }
  ]
}